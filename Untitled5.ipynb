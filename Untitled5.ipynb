{
  "nbformat": 4,
  "nbformat_minor": 0,
  "metadata": {
    "colab": {
      "name": "Untitled5.ipynb",
      "provenance": []
    },
    "kernelspec": {
      "name": "python3",
      "display_name": "Python 3"
    },
    "language_info": {
      "name": "python"
    }
  },
  "cells": [
    {
      "cell_type": "markdown",
      "source": [
        "write a program to demonstrate working with dictionaries in python"
      ],
      "metadata": {
        "id": "3hzM2j9dhM4C"
      }
    },
    {
      "cell_type": "code",
      "source": [
        "dict1 = {'StdNo':'532','StuName': 'Darshan', 'StuAge': 20, 'StuCity': 'Shirpur'}\n",
        "print(\"\\n Dictionary is :\",dict1)\n",
        "#Accessing specific values \n",
        "print(\"\\n Student Name is :\",dict1['StuName'])\n",
        "print(\"\\n Student City is :\",dict1['StuCity'])\n",
        "#Display all Keys\n",
        "print(\"\\n All Keys in Dictionary \")\n",
        "for x in dict1:\n",
        "    print(x)\n",
        "#Display all values\n",
        "print(\"\\n All Values in Dictionary \")\n",
        "for x in dict1:\n",
        "    print(dict1[x])\n",
        "#Adding items\n",
        "dict1[\"Phno\"]=85457854\n",
        "#Updated dictoinary\n",
        "print(\"\\n Uadated Dictionary is :\",dict1)\n",
        "#Change values\n",
        "dict1[\"StuName\"]=\"raju\"\n",
        "#Updated dictoinary\n",
        "print(\"\\n Uadated Dictionary is :\",dict1)\n",
        "#Removing Items\n",
        "dict1.pop(\"StuAge\");\n",
        "#Updated dictoinary\n",
        "print(\"\\n Uadated Dictionary is :\",dict1)\n",
        "#Length of Dictionary\n",
        "print(\"Length of Dictionary is :\",len(dict1))\n",
        "#Copy a Dictionary\n",
        "dict2=dict1.copy()\n",
        "#New dictoinary\n",
        "print(\"\\n New Dictionary is :\",dict2)\n",
        "#empties the dictionary\n",
        "dict1.clear()\n",
        "print(\"\\n Uadated Dictionary is :\",dict1)\n"
      ],
      "metadata": {
        "colab": {
          "base_uri": "https://localhost:8080/"
        },
        "id": "ZjVF3YNdh2RJ",
        "outputId": "90ce2c28-1528-456b-dcb6-c90d3053a0cf"
      },
      "execution_count": 3,
      "outputs": [
        {
          "output_type": "stream",
          "name": "stdout",
          "text": [
            "\n",
            " Dictionary is : {'StdNo': '532', 'StuName': 'Darshan', 'StuAge': 20, 'StuCity': 'Shirpur'}\n",
            "\n",
            " Student Name is : Darshan\n",
            "\n",
            " Student City is : Shirpur\n",
            "\n",
            " All Keys in Dictionary \n",
            "StdNo\n",
            "StuName\n",
            "StuAge\n",
            "StuCity\n",
            "\n",
            " All Values in Dictionary \n",
            "532\n",
            "Darshan\n",
            "20\n",
            "Shirpur\n",
            "\n",
            " Uadated Dictionary is : {'StdNo': '532', 'StuName': 'Darshan', 'StuAge': 20, 'StuCity': 'Shirpur', 'Phno': 85457854}\n",
            "\n",
            " Uadated Dictionary is : {'StdNo': '532', 'StuName': 'raju', 'StuAge': 20, 'StuCity': 'Shirpur', 'Phno': 85457854}\n",
            "\n",
            " Uadated Dictionary is : {'StdNo': '532', 'StuName': 'raju', 'StuCity': 'Shirpur', 'Phno': 85457854}\n",
            "Length of Dictionary is : 4\n",
            "\n",
            " New Dictionary is : {'StdNo': '532', 'StuName': 'raju', 'StuCity': 'Shirpur', 'Phno': 85457854}\n",
            "\n",
            " Uadated Dictionary is : {}\n"
          ]
        }
      ]
    }
  ]
}